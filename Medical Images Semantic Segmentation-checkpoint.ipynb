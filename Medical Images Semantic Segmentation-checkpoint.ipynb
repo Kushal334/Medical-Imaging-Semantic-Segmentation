{
 "cells": [
  {
   "cell_type": "markdown",
   "metadata": {},
   "source": [
    "# Cellular nuclie semantic segmentation - Medical imaging\n",
    "- Kaggle: 2018 Data Science Bowl"
   ]
  },
  {
   "cell_type": "code",
   "execution_count": 21,
   "metadata": {
    "collapsed": true
   },
   "outputs": [],
   "source": [
    "import numpy as np # linear algebra\n",
    "import pandas as pd # data processing, CSV file I/O (e.g. pd.read_csv)\n",
    "from glob import glob\n",
    "import os\n",
    "from skimage.io import imread\n",
    "import matplotlib.pyplot as plt\n",
    "import seaborn as sns\n",
    "%matplotlib inline\n",
    "dsb_data_dir = os.path.join('data/')\n",
    "stage_label = 'stage1'"
   ]
  },
  {
   "cell_type": "code",
   "execution_count": 22,
   "metadata": {},
   "outputs": [
    {
     "data": {
      "text/html": [
       "<div>\n",
       "<style>\n",
       "    .dataframe thead tr:only-child th {\n",
       "        text-align: right;\n",
       "    }\n",
       "\n",
       "    .dataframe thead th {\n",
       "        text-align: left;\n",
       "    }\n",
       "\n",
       "    .dataframe tbody tr th {\n",
       "        vertical-align: top;\n",
       "    }\n",
       "</style>\n",
       "<table border=\"1\" class=\"dataframe\">\n",
       "  <thead>\n",
       "    <tr style=\"text-align: right;\">\n",
       "      <th></th>\n",
       "      <th>ImageId</th>\n",
       "      <th>EncodedPixels</th>\n",
       "    </tr>\n",
       "  </thead>\n",
       "  <tbody>\n",
       "    <tr>\n",
       "      <th>17304</th>\n",
       "      <td>953211bcc0192e2298087d30e708dba68def9e0c13a3ff...</td>\n",
       "      <td>[12044, 4, 12296, 11, 12550, 17, 12804, 20, 13...</td>\n",
       "    </tr>\n",
       "    <tr>\n",
       "      <th>22360</th>\n",
       "      <td>be26966900aa0e5b41d5a8ecafe04281b37deb05c5cd02...</td>\n",
       "      <td>[15510, 4, 15765, 6, 16020, 7, 16275, 8, 16531...</td>\n",
       "    </tr>\n",
       "    <tr>\n",
       "      <th>11154</th>\n",
       "      <td>5afb7932e9c7328f4fb1d7a8166a3699d6cdc5192b9375...</td>\n",
       "      <td>[69587, 19, 70106, 22, 70625, 24, 71144, 27, 7...</td>\n",
       "    </tr>\n",
       "  </tbody>\n",
       "</table>\n",
       "</div>"
      ],
      "text/plain": [
       "                                                 ImageId  \\\n",
       "17304  953211bcc0192e2298087d30e708dba68def9e0c13a3ff...   \n",
       "22360  be26966900aa0e5b41d5a8ecafe04281b37deb05c5cd02...   \n",
       "11154  5afb7932e9c7328f4fb1d7a8166a3699d6cdc5192b9375...   \n",
       "\n",
       "                                           EncodedPixels  \n",
       "17304  [12044, 4, 12296, 11, 12550, 17, 12804, 20, 13...  \n",
       "22360  [15510, 4, 15765, 6, 16020, 7, 16275, 8, 16531...  \n",
       "11154  [69587, 19, 70106, 22, 70625, 24, 71144, 27, 7...  "
      ]
     },
     "execution_count": 22,
     "metadata": {},
     "output_type": "execute_result"
    }
   ],
   "source": [
    "train_labels = pd.read_csv(os.path.join(dsb_data_dir,'{}_train_labels.csv'.format(stage_label)))\n",
    "train_labels['EncodedPixels'] = train_labels['EncodedPixels'].map(lambda ep: [int(x) for x in ep.split(' ')])\n",
    "train_labels.sample(3)"
   ]
  },
  {
   "cell_type": "code",
   "execution_count": 23,
   "metadata": {},
   "outputs": [
    {
     "name": "stdout",
     "output_type": "stream",
     "text": [
      "['data\\\\stage1_test\\\\0114f484a16c152baa2d82fdd43740880a762c93f436c8988ac461c5c9dbe7d5\\\\images\\\\0114f484a16c152baa2d82fdd43740880a762c93f436c8988ac461c5c9dbe7d5.png', 'data\\\\stage1_test\\\\0999dab07b11bc85fb8464fc36c947fbd8b5d6ec49817361cb780659ca805eac\\\\images\\\\0999dab07b11bc85fb8464fc36c947fbd8b5d6ec49817361cb780659ca805eac.png']\n"
     ]
    }
   ],
   "source": [
    "all_images = glob(os.path.join(dsb_data_dir, 'stage1_*', '*', '*', '*'))\n",
    "print(all_images[0:2])"
   ]
  },
  {
   "cell_type": "code",
   "execution_count": 26,
   "metadata": {},
   "outputs": [
    {
     "data": {
      "text/html": [
       "<div>\n",
       "<style>\n",
       "    .dataframe thead tr:only-child th {\n",
       "        text-align: right;\n",
       "    }\n",
       "\n",
       "    .dataframe thead th {\n",
       "        text-align: left;\n",
       "    }\n",
       "\n",
       "    .dataframe tbody tr th {\n",
       "        vertical-align: top;\n",
       "    }\n",
       "</style>\n",
       "<table border=\"1\" class=\"dataframe\">\n",
       "  <thead>\n",
       "    <tr style=\"text-align: right;\">\n",
       "      <th></th>\n",
       "      <th>path</th>\n",
       "    </tr>\n",
       "  </thead>\n",
       "  <tbody>\n",
       "    <tr>\n",
       "      <th>0</th>\n",
       "      <td>data\\stage1_test\\0114f484a16c152baa2d82fdd4374...</td>\n",
       "    </tr>\n",
       "    <tr>\n",
       "      <th>1</th>\n",
       "      <td>data\\stage1_test\\0999dab07b11bc85fb8464fc36c94...</td>\n",
       "    </tr>\n",
       "    <tr>\n",
       "      <th>2</th>\n",
       "      <td>data\\stage1_test\\0a849e0eb15faa8a6d7329c3dd66a...</td>\n",
       "    </tr>\n",
       "    <tr>\n",
       "      <th>3</th>\n",
       "      <td>data\\stage1_test\\0e132f71c8b4875c3c2dd7a229974...</td>\n",
       "    </tr>\n",
       "    <tr>\n",
       "      <th>4</th>\n",
       "      <td>data\\stage1_test\\0ed3555a4bd48046d3b63d8baf03a...</td>\n",
       "    </tr>\n",
       "  </tbody>\n",
       "</table>\n",
       "</div>"
      ],
      "text/plain": [
       "                                                path\n",
       "0  data\\stage1_test\\0114f484a16c152baa2d82fdd4374...\n",
       "1  data\\stage1_test\\0999dab07b11bc85fb8464fc36c94...\n",
       "2  data\\stage1_test\\0a849e0eb15faa8a6d7329c3dd66a...\n",
       "3  data\\stage1_test\\0e132f71c8b4875c3c2dd7a229974...\n",
       "4  data\\stage1_test\\0ed3555a4bd48046d3b63d8baf03a..."
      ]
     },
     "execution_count": 26,
     "metadata": {},
     "output_type": "execute_result"
    }
   ],
   "source": [
    "img_df = pd.DataFrame({'path': all_images})\n",
    "img_df.head()"
   ]
  },
  {
   "cell_type": "code",
   "execution_count": 42,
   "metadata": {},
   "outputs": [],
   "source": [
    "\n",
    "img_id = lambda in_path: in_path.split('\\\\')[-3]\n",
    "img_type = lambda in_path: in_path.split('\\\\')[-2]\n",
    "img_group = lambda in_path: in_path.split('\\\\')[-4].split('_')[1]\n",
    "img_stage = lambda in_path: in_path.split('\\\\')[-4].split('_')[0]"
   ]
  },
  {
   "cell_type": "code",
   "execution_count": 44,
   "metadata": {},
   "outputs": [],
   "source": [
    "img_df['ImageId'] = img_df['path'].map(img_id)\n",
    "img_df['ImageType'] = img_df['path'].map(img_type)\n",
    "img_df['TrainingSplit'] = img_df['path'].map(img_group)\n",
    "img_df['Stage'] = img_df['path'].map(img_stage)\n"
   ]
  },
  {
   "cell_type": "code",
   "execution_count": 45,
   "metadata": {},
   "outputs": [
    {
     "data": {
      "text/html": [
       "<div>\n",
       "<style>\n",
       "    .dataframe thead tr:only-child th {\n",
       "        text-align: right;\n",
       "    }\n",
       "\n",
       "    .dataframe thead th {\n",
       "        text-align: left;\n",
       "    }\n",
       "\n",
       "    .dataframe tbody tr th {\n",
       "        vertical-align: top;\n",
       "    }\n",
       "</style>\n",
       "<table border=\"1\" class=\"dataframe\">\n",
       "  <thead>\n",
       "    <tr style=\"text-align: right;\">\n",
       "      <th></th>\n",
       "      <th>path</th>\n",
       "      <th>ImageId</th>\n",
       "      <th>ImageType</th>\n",
       "      <th>TrainingSplit</th>\n",
       "      <th>Stage</th>\n",
       "    </tr>\n",
       "  </thead>\n",
       "  <tbody>\n",
       "    <tr>\n",
       "      <th>0</th>\n",
       "      <td>data\\stage1_test\\0114f484a16c152baa2d82fdd4374...</td>\n",
       "      <td>0114f484a16c152baa2d82fdd43740880a762c93f436c8...</td>\n",
       "      <td>images</td>\n",
       "      <td>test</td>\n",
       "      <td>stage1</td>\n",
       "    </tr>\n",
       "    <tr>\n",
       "      <th>1</th>\n",
       "      <td>data\\stage1_test\\0999dab07b11bc85fb8464fc36c94...</td>\n",
       "      <td>0999dab07b11bc85fb8464fc36c947fbd8b5d6ec498173...</td>\n",
       "      <td>images</td>\n",
       "      <td>test</td>\n",
       "      <td>stage1</td>\n",
       "    </tr>\n",
       "    <tr>\n",
       "      <th>2</th>\n",
       "      <td>data\\stage1_test\\0a849e0eb15faa8a6d7329c3dd66a...</td>\n",
       "      <td>0a849e0eb15faa8a6d7329c3dd66aabe9a294cccb52ed3...</td>\n",
       "      <td>images</td>\n",
       "      <td>test</td>\n",
       "      <td>stage1</td>\n",
       "    </tr>\n",
       "    <tr>\n",
       "      <th>3</th>\n",
       "      <td>data\\stage1_test\\0e132f71c8b4875c3c2dd7a229974...</td>\n",
       "      <td>0e132f71c8b4875c3c2dd7a22997468a3e842b46aa9bd4...</td>\n",
       "      <td>images</td>\n",
       "      <td>test</td>\n",
       "      <td>stage1</td>\n",
       "    </tr>\n",
       "    <tr>\n",
       "      <th>4</th>\n",
       "      <td>data\\stage1_test\\0ed3555a4bd48046d3b63d8baf03a...</td>\n",
       "      <td>0ed3555a4bd48046d3b63d8baf03a5aa97e523aa483aaa...</td>\n",
       "      <td>images</td>\n",
       "      <td>test</td>\n",
       "      <td>stage1</td>\n",
       "    </tr>\n",
       "  </tbody>\n",
       "</table>\n",
       "</div>"
      ],
      "text/plain": [
       "                                                path  \\\n",
       "0  data\\stage1_test\\0114f484a16c152baa2d82fdd4374...   \n",
       "1  data\\stage1_test\\0999dab07b11bc85fb8464fc36c94...   \n",
       "2  data\\stage1_test\\0a849e0eb15faa8a6d7329c3dd66a...   \n",
       "3  data\\stage1_test\\0e132f71c8b4875c3c2dd7a229974...   \n",
       "4  data\\stage1_test\\0ed3555a4bd48046d3b63d8baf03a...   \n",
       "\n",
       "                                             ImageId ImageType TrainingSplit  \\\n",
       "0  0114f484a16c152baa2d82fdd43740880a762c93f436c8...    images          test   \n",
       "1  0999dab07b11bc85fb8464fc36c947fbd8b5d6ec498173...    images          test   \n",
       "2  0a849e0eb15faa8a6d7329c3dd66aabe9a294cccb52ed3...    images          test   \n",
       "3  0e132f71c8b4875c3c2dd7a22997468a3e842b46aa9bd4...    images          test   \n",
       "4  0ed3555a4bd48046d3b63d8baf03a5aa97e523aa483aaa...    images          test   \n",
       "\n",
       "    Stage  \n",
       "0  stage1  \n",
       "1  stage1  \n",
       "2  stage1  \n",
       "3  stage1  \n",
       "4  stage1  "
      ]
     },
     "execution_count": 45,
     "metadata": {},
     "output_type": "execute_result"
    }
   ],
   "source": [
    "img_df.head()"
   ]
  },
  {
   "cell_type": "code",
   "execution_count": 10,
   "metadata": {},
   "outputs": [
    {
     "data": {
      "text/plain": [
       "[]"
      ]
     },
     "execution_count": 10,
     "metadata": {},
     "output_type": "execute_result"
    }
   ],
   "source": [
    "all_images"
   ]
  },
  {
   "cell_type": "code",
   "execution_count": null,
   "metadata": {
    "collapsed": true
   },
   "outputs": [],
   "source": []
  },
  {
   "cell_type": "code",
   "execution_count": null,
   "metadata": {
    "collapsed": true
   },
   "outputs": [],
   "source": []
  }
 ],
 "metadata": {
  "kernelspec": {
   "display_name": "Python 3",
   "language": "python",
   "name": "python3"
  },
  "language_info": {
   "codemirror_mode": {
    "name": "ipython",
    "version": 3
   },
   "file_extension": ".py",
   "mimetype": "text/x-python",
   "name": "python",
   "nbconvert_exporter": "python",
   "pygments_lexer": "ipython3",
   "version": "3.6.7"
  }
 },
 "nbformat": 4,
 "nbformat_minor": 2
}
